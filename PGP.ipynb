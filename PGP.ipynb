{
  "nbformat": 4,
  "nbformat_minor": 0,
  "metadata": {
    "colab": {
      "provenance": []
    },
    "kernelspec": {
      "name": "python3",
      "display_name": "Python 3"
    },
    "language_info": {
      "name": "python"
    }
  },
  "cells": [
    {
      "cell_type": "markdown",
      "source": [
        "# Pretty Good Privacy"
      ],
      "metadata": {
        "id": "1A7LSnqKAYb9"
      }
    },
    {
      "cell_type": "markdown",
      "source": [
        "## **A** making the key"
      ],
      "metadata": {
        "id": "-vnTHAXoBP71"
      }
    },
    {
      "cell_type": "markdown",
      "source": [
        "### installing pgpy library"
      ],
      "metadata": {
        "id": "7vQcce1XAd9a"
      }
    },
    {
      "cell_type": "code",
      "execution_count": null,
      "metadata": {
        "colab": {
          "base_uri": "https://localhost:8080/"
        },
        "id": "BLkkPowE1pEr",
        "outputId": "1b986a51-b11a-450f-9b2a-cc1e4b61d8f4"
      },
      "outputs": [
        {
          "output_type": "stream",
          "name": "stdout",
          "text": [
            "Collecting PGPy\n",
            "  Downloading PGPy-0.6.0.tar.gz (603 kB)\n",
            "\u001b[?25l     \u001b[90m━━━━━━━━━━━━━━━━━━━━━━━━━━━━━━━━━━━━━━━━\u001b[0m \u001b[32m0.0/603.0 kB\u001b[0m \u001b[31m?\u001b[0m eta \u001b[36m-:--:--\u001b[0m\r\u001b[2K     \u001b[91m━━━━━━━━━━━━━━━━━━━━\u001b[0m\u001b[90m╺\u001b[0m\u001b[90m━━━━━━━━━━━━━━━━━━━\u001b[0m \u001b[32m307.2/603.0 kB\u001b[0m \u001b[31m9.0 MB/s\u001b[0m eta \u001b[36m0:00:01\u001b[0m\r\u001b[2K     \u001b[90m━━━━━━━━━━━━━━━━━━━━━━━━━━━━━━━━━━━━━━━━\u001b[0m \u001b[32m603.0/603.0 kB\u001b[0m \u001b[31m11.9 MB/s\u001b[0m eta \u001b[36m0:00:00\u001b[0m\n",
            "\u001b[?25h  Installing build dependencies ... \u001b[?25l\u001b[?25hdone\n",
            "  Getting requirements to build wheel ... \u001b[?25l\u001b[?25hdone\n",
            "  Preparing metadata (pyproject.toml) ... \u001b[?25l\u001b[?25hdone\n",
            "Requirement already satisfied: cryptography>=3.3.2 in /usr/local/lib/python3.10/dist-packages (from PGPy) (42.0.7)\n",
            "Requirement already satisfied: pyasn1 in /usr/local/lib/python3.10/dist-packages (from PGPy) (0.6.0)\n",
            "Requirement already satisfied: cffi>=1.12 in /usr/local/lib/python3.10/dist-packages (from cryptography>=3.3.2->PGPy) (1.16.0)\n",
            "Requirement already satisfied: pycparser in /usr/local/lib/python3.10/dist-packages (from cffi>=1.12->cryptography>=3.3.2->PGPy) (2.22)\n",
            "Building wheels for collected packages: PGPy\n",
            "  Building wheel for PGPy (pyproject.toml) ... \u001b[?25l\u001b[?25hdone\n",
            "  Created wheel for PGPy: filename=PGPy-0.6.0-py3-none-any.whl size=84151 sha256=01e82a3cc6fccb0789978cd194c7851795e44948eb6200f8d9b0d50c97be1897\n",
            "  Stored in directory: /root/.cache/pip/wheels/98/43/cf/8b931d43f64c6f48ae00c993740daeca9edf95074ff13faf8a\n",
            "Successfully built PGPy\n",
            "Installing collected packages: PGPy\n",
            "Successfully installed PGPy-0.6.0\n"
          ]
        }
      ],
      "source": [
        "!pip install PGPy"
      ]
    },
    {
      "cell_type": "markdown",
      "source": [
        "### importing necessary libraries"
      ],
      "metadata": {
        "id": "Y5DzxeWAAksU"
      }
    },
    {
      "cell_type": "code",
      "source": [
        "import pgpy\n",
        "from pgpy.constants import PubKeyAlgorithm, KeyFlags, HashAlgorithm, SymmetricKeyAlgorithm, CompressionAlgorithm"
      ],
      "metadata": {
        "id": "ssUDvTVC3Kbw"
      },
      "execution_count": null,
      "outputs": []
    },
    {
      "cell_type": "markdown",
      "source": [
        "### making the key"
      ],
      "metadata": {
        "id": "Ek3xS9rfAqn5"
      }
    },
    {
      "cell_type": "markdown",
      "source": [
        "#### making the key for SRA encryption"
      ],
      "metadata": {
        "id": "Nv9dkxjSA0A0"
      }
    },
    {
      "cell_type": "code",
      "source": [
        "key = pgpy.PGPKey.new(PubKeyAlgorithm.RSAEncryptOrSign, 4096)"
      ],
      "metadata": {
        "id": "giwFNpuF3x1H"
      },
      "execution_count": null,
      "outputs": []
    },
    {
      "cell_type": "markdown",
      "source": [
        "#### adding uid to the key"
      ],
      "metadata": {
        "id": "ndt_kKLEA38s"
      }
    },
    {
      "cell_type": "code",
      "source": [
        "uid = pgpy.PGPUID.new('Alireza', comment='to test', email='Alireza10Rezaei10@gmail.com')"
      ],
      "metadata": {
        "id": "ySKaasda6diX"
      },
      "execution_count": null,
      "outputs": []
    },
    {
      "cell_type": "code",
      "source": [
        "key.add_uid(uid, usage={KeyFlags.Sign, KeyFlags.EncryptCommunications, KeyFlags.EncryptStorage},\n",
        "            hashes=[HashAlgorithm.SHA256],\n",
        "            ciphers=[SymmetricKeyAlgorithm.AES256],\n",
        "            compression=[CompressionAlgorithm.ZIP]\n",
        ")"
      ],
      "metadata": {
        "id": "GFWCX6gJ6iPa"
      },
      "execution_count": null,
      "outputs": []
    },
    {
      "cell_type": "markdown",
      "source": [
        "### saving the key"
      ],
      "metadata": {
        "id": "GVYu3k4KCCqh"
      }
    },
    {
      "cell_type": "code",
      "source": [
        "with open(\"my_pubkey.pgp\", \"w\") as f:\n",
        "  f.write(str(key.pubkey))\n",
        "\n",
        "with open(\"my_prikey.pgp\", \"w\") as f:\n",
        "  f.write(str(key))"
      ],
      "metadata": {
        "id": "cqLKJgB57Nu-"
      },
      "execution_count": null,
      "outputs": []
    },
    {
      "cell_type": "markdown",
      "source": [
        "## **B** viewing the information"
      ],
      "metadata": {
        "id": "UG3e1TR0CvqB"
      }
    },
    {
      "cell_type": "markdown",
      "source": [
        "### publuc key"
      ],
      "metadata": {
        "id": "3t41CKLRE-S1"
      }
    },
    {
      "cell_type": "code",
      "source": [
        "print(str(key.pubkey))"
      ],
      "metadata": {
        "colab": {
          "base_uri": "https://localhost:8080/"
        },
        "id": "-a9XXcl4-0PF",
        "outputId": "234cb1a5-c5f4-44f5-8515-38050860b524"
      },
      "execution_count": null,
      "outputs": [
        {
          "output_type": "stream",
          "name": "stdout",
          "text": [
            "-----BEGIN PGP PUBLIC KEY BLOCK-----\n",
            "\n",
            "xsFNBGZcgkoBEAClvlhzo96cZZQcprDIfde76+Rl/CnOaUVuUvSHMxLl1fONpRBR\n",
            "dzdE2wE9o7ynEW1bglblVXVbRHvZxnC3M8Oz3tXPDqian+RXnMvtRVfKI7uata7X\n",
            "GCnHBvZtFIKvMdsZR/GsK6tXFmWbYzbCrlGqBF0MNbVPQl1bkkE2VHl8AVbI6P67\n",
            "JApmCXg6tJcIi4b/kdSc/ki3AucJT7zNiEY9APBGDDo/vB9Yw2Rxiu6mWgcUwd58\n",
            "/2AzdRbRCAhfAvMofZHZGMwhhRq4cTcHCSnRJUQixCtFPcQqAaQ6/UxGZm6CZ9cQ\n",
            "+TUHYb3+jme954i0WViHILGIPopRV/szOlHnAMBkY59SG4v3yIEM/g0XFk53zE45\n",
            "tMuMVopqKqvhkMYLE6ZgUPxeEJTnPRIO+7Lid1Selmkim0bPus3A2rfJyx78G2Ip\n",
            "G+plG/mI3v8CBqsxIu5q4FSmZgF60Pmm9gVDphkxZbhoyEpfE3lWPWEZTptQstId\n",
            "oF/QLJhc9qOytfMRntmjBNfgKbCe76FWRVlTp5BiOaY9ZDcU8SFydaVyRRnUsstP\n",
            "V8Ev6Adv2lIblNhuQCSGdOP8lGi/9WDAadUVvO8sNJ4O4HoeUw7am1XILA2ha7Zh\n",
            "fuW6mqSxXcVdxmucOwtGjORAVV+uN+cmP6oQ86GHCSewMgAXDoC9ay3lvwARAQAB\n",
            "zStNYW5hIChmb3IgY291cnNlKSA8bWFuLnBlaXJhdmlhbkBnbWFpbC5jb20+wsGC\n",
            "BBMBCAAsBQJmXINuAhsOAgsJAhUIAhYBAh4BFiEEt8o+RgG6GoNDJICEa7plajCJ\n",
            "d8oACgkQa7plajCJd8rmuw/+LQEZfxOZUyNtUW7bXyAO5qYTQSpH4kq7XQPh5ffq\n",
            "LLOa2i68OLrXqt+Vkw2KhCQpSzgMO0C6fPxty0g7tR+KOy0jodUuX+NVgpcMheHq\n",
            "lSaZIO+syunOckRF/z61gD7O+RXET3R0Vhk/7vTKNH9FeEDAfi16SjzUMDkFPuyx\n",
            "/HH2lNQBPp7Roez1NIP2hghnZHvZOiDBu46K1OfeiytO1N+zZZGwpBji45SDKIKR\n",
            "fqppns+yZ+T8Jx5XLXCCQRssrjezoNh5qIhnVN7yhv3wafhohewT+iY1qT3x3wFx\n",
            "FHgwwWKH5w87Fdmi/TWlrQdbAXHH+Jn3BkhcGLOBX0VQ0UyH/ebEGhcJuZ60c8JE\n",
            "yFPJufFrt5sFni27UGtFu/9FJRbe5Fnbm0538fhODfSrQkYuuAugeLPXr0etfyEe\n",
            "aXqLxxTwK7kpdRdya12szHbr2S5MMGIJQEbpGUfTb/6XjvLNAbv8fJh8ALwVYuxa\n",
            "eBkdff9tMK8Q9ItyPBQgBIpbdgBa94aI8Tzjss4ovJ59Q1cmbVvk159dyOwGTPkh\n",
            "olrqJsaJaGBS/a//vLIBqtqiHMVk7yWdkDmRBxjGTveS9IFepR+B49b6zmgbKHFE\n",
            "SJ8bjWBPnPwQVffkhdCAtvrqvSa6JFH4AaVs7PSmRMlycbI5YwW6+tG6Wz6UqzqN\n",
            "tOY=\n",
            "=/4/v\n",
            "-----END PGP PUBLIC KEY BLOCK-----\n",
            "\n"
          ]
        }
      ]
    },
    {
      "cell_type": "markdown",
      "source": [
        "### algorithms"
      ],
      "metadata": {
        "id": "5UUFdd8oFCWj"
      }
    },
    {
      "cell_type": "markdown",
      "source": [
        "encryption algorithm is 4096-bit RSA."
      ],
      "metadata": {
        "id": "C9OGqnb40tE5"
      }
    },
    {
      "cell_type": "code",
      "source": [
        "key.key_algorithm.name"
      ],
      "metadata": {
        "colab": {
          "base_uri": "https://localhost:8080/",
          "height": 35
        },
        "id": "sYG-DqwrDg0T",
        "outputId": "2514ed57-8bdc-46c1-8d94-2179bd2d7761"
      },
      "execution_count": null,
      "outputs": [
        {
          "output_type": "execute_result",
          "data": {
            "text/plain": [
              "'RSAEncryptOrSign'"
            ],
            "application/vnd.google.colaboratory.intrinsic+json": {
              "type": "string"
            }
          },
          "metadata": {},
          "execution_count": 176
        }
      ]
    },
    {
      "cell_type": "markdown",
      "source": [
        "we specified SHA-256 for hashing. to prove that do the following:"
      ],
      "metadata": {
        "id": "Ma4osRTr1pg5"
      }
    },
    {
      "cell_type": "code",
      "source": [
        "key.sign(\"hello world\").hash_algorithm.name"
      ],
      "metadata": {
        "colab": {
          "base_uri": "https://localhost:8080/",
          "height": 35
        },
        "id": "WWB3HuW9GgEy",
        "outputId": "823e3500-8161-4927-cdf1-42810bb71d9a"
      },
      "execution_count": null,
      "outputs": [
        {
          "output_type": "execute_result",
          "data": {
            "text/plain": [
              "'SHA256'"
            ],
            "application/vnd.google.colaboratory.intrinsic+json": {
              "type": "string"
            }
          },
          "metadata": {},
          "execution_count": 177
        }
      ]
    },
    {
      "cell_type": "markdown",
      "source": [
        "in signing we are using both of them."
      ],
      "metadata": {
        "id": "DuRGHMKOmYTc"
      }
    },
    {
      "cell_type": "markdown",
      "source": [
        "## C sending signed encrypted message"
      ],
      "metadata": {
        "id": "gF8SZDaf-pfP"
      }
    },
    {
      "cell_type": "markdown",
      "source": [
        "### creating the message"
      ],
      "metadata": {
        "id": "k3h-Ig2N_Ftr"
      }
    },
    {
      "cell_type": "code",
      "source": [
        "msg = pgpy.PGPMessage.new(\"Alireza Rezaei\")"
      ],
      "metadata": {
        "id": "Hkr-Z9Rt1ADz"
      },
      "execution_count": null,
      "outputs": []
    },
    {
      "cell_type": "markdown",
      "source": [
        "### encrypt the message"
      ],
      "metadata": {
        "id": "xkSNJVdN_ke9"
      }
    },
    {
      "cell_type": "markdown",
      "source": [
        "#### load recievers public key"
      ],
      "metadata": {
        "id": "C3SsMD6GJRAG"
      }
    },
    {
      "cell_type": "code",
      "source": [
        "rec_pubkey, _ = pgpy.PGPKey.from_file(\"their_pub.asc\")"
      ],
      "metadata": {
        "id": "0lVgoWL-JWiq"
      },
      "execution_count": null,
      "outputs": []
    },
    {
      "cell_type": "markdown",
      "source": [
        "#### encrypting the message using reciever's public key"
      ],
      "metadata": {
        "id": "TnG-PviaJnah"
      }
    },
    {
      "cell_type": "code",
      "source": [
        "enc_msg = rec_pubkey.encrypt(msg)"
      ],
      "metadata": {
        "id": "w6gMx8xnAAfV"
      },
      "execution_count": null,
      "outputs": []
    },
    {
      "cell_type": "markdown",
      "source": [
        "### signing the message"
      ],
      "metadata": {
        "id": "WfuILHnJ_Imn"
      }
    },
    {
      "cell_type": "code",
      "source": [
        "signed_enc_msg =  enc_msg | key.sign(enc_msg)"
      ],
      "metadata": {
        "id": "Gocp0LaE1eVL"
      },
      "execution_count": null,
      "outputs": []
    },
    {
      "cell_type": "code",
      "source": [
        "signed_enc_msg.signatures"
      ],
      "metadata": {
        "colab": {
          "base_uri": "https://localhost:8080/"
        },
        "id": "c8t1ygGv_0_i",
        "outputId": "8a974b35-8e50-486d-a85f-1b03d5461c23"
      },
      "execution_count": null,
      "outputs": [
        {
          "output_type": "execute_result",
          "data": {
            "text/plain": [
              "[<PGPSignature [BinaryDocument] object at 0x78b7743f7190>]"
            ]
          },
          "metadata": {},
          "execution_count": 198
        }
      ]
    },
    {
      "cell_type": "code",
      "source": [
        "with open(\"signed_encrypted_msg.asc\", \"w\") as f:\n",
        "  f.write(str(signed_enc_msg))"
      ],
      "metadata": {
        "id": "f8Ty45tpUp_u"
      },
      "execution_count": null,
      "outputs": []
    },
    {
      "cell_type": "markdown",
      "source": [
        "### Response"
      ],
      "metadata": {
        "id": "TxQiyR0ak8jL"
      }
    },
    {
      "cell_type": "code",
      "source": [
        "plain_res = \"\"\"\n",
        "-----BEGIN PGP MESSAGE-----\n",
        "\n",
        "wcFMA2u6ZWowiXfKAQ//QyQdDTx29W3Y7/LbRBT8ToZy63BcBN7RflE4xmAd/vA+\n",
        "2zhGurciO+YagH3+mNCXkuwMQ+inNgY5/Lnn+j0DxDXvmDz78s3keOesyY1F9vfN\n",
        "8C18J6bVKpL9hNZ2PjnGnV3k5CFuSkqzHps1drn4UgtIIoUksvjN4KvxAb6GA9yB\n",
        "2mfCw/JvOVWVwIAXw0sPfFmIAL2X6BkGYaHW980fLrJl+3pdHrqvzCIKzQgRq636\n",
        "GfJBJXgboTlibFCvSPj1utuPiTX7VCiSXtdhBtovC9fog8uv0x1nb3srA98f4vz+\n",
        "Y095zFsDdP6nOB+IwREVxgaCMvktaMXaHgVslf2nIIGNvZpQ+AqnLIoYmdqOCgLL\n",
        "KlHn3iY5+7aw0y9tVNt8p22YyXmZCvyjCr7DUwE0+Kgx2s6n24tVu/9ZuLuqZ6oX\n",
        "Q3DGNivophdzRWe7gNijycUyejSEJCEa73pXUL/dUBw/VkdHgKt4nduQHpbvepbp\n",
        "wgFyiNWqiR5qEZYh0ScODVeZG6DrcqFwbcA5c3KQRdQrQbULe02awcBnBtdgeEcR\n",
        "ARDP7ldk3tc0a4mwuuJpd0qHF93bQ4yGeVlDKoSh8jPThrjWKRD8ie1yvgo56Skb\n",
        "jCbe6PjFQJ5AnPcycJh5eVnYvx+JOCYo01793YLo8WgAI7vNsV6PE6INL9npMVfS\n",
        "wUoBCoOJqLLEDoYiz81jaK3qRO55qmKWj1Ir4TAtWNCqH9h3Uzh+dZ2RAzt42vpH\n",
        "14ZjQvT65NcxihIEgpD2eR1s/VNJcjPpFNi16NSm8ffaA7rRqwlDv7KjIVh3dAjJ\n",
        "OKdeyitwyVydYznF+EnZuH+dhK/4hoD37m4xlPVJjFOWI69Er9sIiu1aFKb6F8gu\n",
        "OAFDglu1rbdMhrs/7dkZLZMK/sfaGv9EaRCOBE6lkkzVuyN+dUFesSY2fH9JdDZM\n",
        "6BYfOMqhrg/Y9FNBKhAUWNOgBQG3AmcrF6GNBq0qO9rEuTbMyQKBm98xj1j9PmDj\n",
        "hCQcfK5V8osTpeWhlM0+DNvlhKr2VGc3JtQfrLkUOmPZZUgnM2OcR48rsUlUPxuQ\n",
        "28mhOvacWGf4zVqPQCviOlNOSDmiQ9yMNLV7apBo08mdvB/USXgWKstsdpktBehX\n",
        "gJzAy6hACQiWN3IEMFpIwEpQgq/2eRIGh7r43v9GGKyQZhZC+dzF0Ra/eNLDXq8l\n",
        "A46iS1fbb0cWgRkj0eNRxb1SqdNOeYx2tjujD4bBfK39AekqWJ5YUggffGNECKgR\n",
        "96MjjqOO3eERfZeFDQ3zEpjRovV7rLPxKL5KnNH1Wmzk4QzTAzS7RoGXxqW4CSLK\n",
        "lVNZIP1AwdhrZv7TsNYCjJR/nb6XNV+RbTNozb4+LWFghlAM7nw5hZXJ9nY=\n",
        "=qzcS\n",
        "-----END PGP MESSAGE-----\n",
        "\"\"\""
      ],
      "metadata": {
        "id": "O2M295ALUp8Z"
      },
      "execution_count": null,
      "outputs": []
    },
    {
      "cell_type": "code",
      "source": [
        "enc_res = pgpy.PGPMessage.from_blob(plain_res)"
      ],
      "metadata": {
        "id": "JaWlgDTQlESl"
      },
      "execution_count": null,
      "outputs": []
    },
    {
      "cell_type": "code",
      "source": [
        "print(key.decrypt(enc_res).message);"
      ],
      "metadata": {
        "colab": {
          "base_uri": "https://localhost:8080/"
        },
        "id": "-YxYAa3zl8mE",
        "outputId": "6674609a-0687-497a-9722-adf74e7f8461"
      },
      "execution_count": 3,
      "outputs": [
        {
          "output_type": "stream",
          "name": "stdout",
          "text": [
            "\n",
            "Accepted from:Alireza Rezaei <Alireza10Rezaei10@gmail.com>\n",
            "body:Alireza Rezaei\n",
            "time:1717341518\n",
            "token:AMFVKB-YV6ITR-6J3AAF-MF299I-4VS9UV-GJOP06-KV8MBA-36UD9O\n",
            "    \n"
          ]
        }
      ]
    },
    {
      "cell_type": "code",
      "source": [],
      "metadata": {
        "id": "qrNRC64Pe6xM"
      },
      "execution_count": null,
      "outputs": []
    }
  ]
}